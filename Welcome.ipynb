{
 "cells": [
  {
   "cell_type": "markdown",
   "metadata": {},
   "source": [
    "<html>\n",
    "<table width=\"100%\" cellspacing=\"2\" cellpadding=\"2\" border=\"1\">\n",
    "<tbody>\n",
    "<tr>\n",
    "<td valign=\"center\" align=\"center\" width=\"25%\"><img src=\"media/decartes.jpg\"\n",
    "alt=\"DeCART Icon\" width=\"128\" height=\"171\"><br>\n",
    "</td>\n",
    "<td valign=\"center\" align=\"center\" width=\"75%\">\n",
    "<h1 align=\"center\"><font size=\"+1\">DeCART Summer School<br>\n",
    "for<br>\n",
    "Biomedical Data Science</font></h1></td>\n",
    "<td valign=\"center\" align=\"center\" width=\"25%\"><img\n",
    "src=\"media/U_Health_stacked_png_red.png\" alt=\"Utah Health\n",
    "Logo\" width=\"128\" height=\"134\"><br>\n",
    "</td>\n",
    "</tr>\n",
    "</tbody>\n",
    "</table>\n",
    "<br>\n",
    "</html>"
   ]
  },
  {
   "cell_type": "markdown",
   "metadata": {},
   "source": [
    "# DeCART Boot Camp Part 1.\n",
    "\n",
    "## Introduction to Computing Environments\n",
    "\n",
    "\n",
    "This class introduces students to the Unix/Linux operating system and the Jupyter environment we will be using in the other courses in the summer school. Linux (an open source of Unix) is the operating system of scientific computing, developed in the late 1960s by AT&T. If you have a Mac your operating system is based on a version of Unix. Containerization technologies like Docker and Singularity make it likely that you can (will) be running Linux on your computer regardless of wha operating system is your host.\n",
    "\n",
    "#### Before we get started, please complete the our survey\n",
    "\n",
    "Because this summer school is funded in part by the NIH, it is important that we study our efficacy, find ways to improve our courses, and, of course, report back to the NIH.\n",
    "\n",
    "\n",
    "### Schedule \n",
    "\n",
    "Our anticipated schedule is as follows:\n",
    "\n",
    "* Navigating the Linux file system in the bash shell\n",
    "* Unix pipes\n",
    "* Environment variables\n",
    "* Viewing and editing files\n",
    "* Getting remote data\n",
    "* Working with remote computers\n",
    "* Working with compressed data\n",
    "* Introduction to Python\n",
    "\n",
    "#### Online Learning Resources\n",
    "\n",
    "Because our course is only two days long, we will not be able to work on learning how to use git in more detail. However, you can access for free a DataCamp course on using git.\n",
    "\n",
    "### Learning Objectives\n",
    "\n",
    "1. Students will be able to work within the Linux environment to execute programs, and to organize and access files within the file system\n",
    "1. Students will learn how to use tools such as ftp, curl, and wget for remote data access\n",
    "1. Students will be able to edit files using ``vim``.\n",
    "1. Students will create, edit, and run simple Python scripts\n",
    "\n",
    "## [Module 1](./Modules/module1/ROADMAP.ipynb)\n",
    "## [Module 2](./Modules/module2/ROADMAP.ipynb)\n",
    "## [Module 3](./Modules/module3/ROADMAP.ipynb)"
   ]
  },
  {
   "cell_type": "markdown",
   "metadata": {},
   "source": [
    "<a rel=\"license\" href=\"http://creativecommons.org/licenses/by-nc-sa/4.0/\"><img alt=\"Creative Commons License\" style=\"border-width:0\" src=\"https://i.creativecommons.org/l/by-nc-sa/4.0/88x31.png\" /></a><br /><span xmlns:dct=\"http://purl.org/dc/terms/\" property=\"dct:title\">University of Utah DeCART Summer School for Biomedical Data Science.</span>\n",
    "\n",
    "<span xmlns:cc=\"http://creativecommons.org/ns#\" property=\"cc:attributionName\">&copy; Brian E. Chapman</span>. This material is licensed under a <a rel=\"license\" href=\"http://creativecommons.org/licenses/by-nc-sa/4.0/\">Creative Commons Attribution-NonCommercial-ShareAlike 4.0 International License</a>."
   ]
  },
  {
   "cell_type": "code",
   "execution_count": null,
   "metadata": {},
   "outputs": [],
   "source": []
  }
 ],
 "metadata": {
  "kernelspec": {
   "display_name": "Python 3",
   "language": "python",
   "name": "python3"
  },
  "language_info": {
   "codemirror_mode": {
    "name": "ipython",
    "version": 3
   },
   "file_extension": ".py",
   "mimetype": "text/x-python",
   "name": "python",
   "nbconvert_exporter": "python",
   "pygments_lexer": "ipython3",
   "version": "3.5.5"
  }
 },
 "nbformat": 4,
 "nbformat_minor": 2
}
